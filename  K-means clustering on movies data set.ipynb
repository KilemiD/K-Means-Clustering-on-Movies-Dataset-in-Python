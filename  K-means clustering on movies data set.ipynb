{
 "cells": [
  {
   "cell_type": "code",
   "execution_count": 1,
   "id": "3290a61c",
   "metadata": {},
   "outputs": [],
   "source": [
    "import numpy as np\n",
    "import pandas as pd\n",
    "import matplotlib.pyplot as plt\n",
    "import seaborn as sns\n",
    "\n",
    "from sklearn.cluster import KMeans\n",
    "from sklearn.cluster import AgglomerativeClustering"
   ]
  },
  {
   "cell_type": "code",
   "execution_count": 7,
   "id": "7199fb63",
   "metadata": {},
   "outputs": [
    {
     "data": {
      "text/html": [
       "<div>\n",
       "<style scoped>\n",
       "    .dataframe tbody tr th:only-of-type {\n",
       "        vertical-align: middle;\n",
       "    }\n",
       "\n",
       "    .dataframe tbody tr th {\n",
       "        vertical-align: top;\n",
       "    }\n",
       "\n",
       "    .dataframe thead th {\n",
       "        text-align: right;\n",
       "    }\n",
       "</style>\n",
       "<table border=\"1\" class=\"dataframe\">\n",
       "  <thead>\n",
       "    <tr style=\"text-align: right;\">\n",
       "      <th></th>\n",
       "      <th>Rank</th>\n",
       "      <th>Title</th>\n",
       "      <th>Description</th>\n",
       "      <th>Runtime</th>\n",
       "      <th>Genre</th>\n",
       "      <th>Rating</th>\n",
       "      <th>Metascore</th>\n",
       "      <th>Votes</th>\n",
       "      <th>Gross_Earning</th>\n",
       "      <th>Director</th>\n",
       "      <th>Actor</th>\n",
       "    </tr>\n",
       "  </thead>\n",
       "  <tbody>\n",
       "    <tr>\n",
       "      <th>0</th>\n",
       "      <td>2</td>\n",
       "      <td>Suicide Squad</td>\n",
       "      <td>A secret government agency recruits some of th...</td>\n",
       "      <td>123</td>\n",
       "      <td>Action</td>\n",
       "      <td>5.9</td>\n",
       "      <td>40.0</td>\n",
       "      <td>656097</td>\n",
       "      <td>325.10</td>\n",
       "      <td>David Ayer</td>\n",
       "      <td>Will Smith</td>\n",
       "    </tr>\n",
       "    <tr>\n",
       "      <th>1</th>\n",
       "      <td>3</td>\n",
       "      <td>Deadpool</td>\n",
       "      <td>A wisecracking mercenary gets experimented on ...</td>\n",
       "      <td>108</td>\n",
       "      <td>Action</td>\n",
       "      <td>8.0</td>\n",
       "      <td>65.0</td>\n",
       "      <td>958507</td>\n",
       "      <td>363.00</td>\n",
       "      <td>Tim Miller</td>\n",
       "      <td>Ryan Reynolds</td>\n",
       "    </tr>\n",
       "    <tr>\n",
       "      <th>2</th>\n",
       "      <td>4</td>\n",
       "      <td>Doctor Strange</td>\n",
       "      <td>While on a journey of physical and spiritual h...</td>\n",
       "      <td>115</td>\n",
       "      <td>Action</td>\n",
       "      <td>7.5</td>\n",
       "      <td>72.0</td>\n",
       "      <td>653299</td>\n",
       "      <td>232.60</td>\n",
       "      <td>Scott Derrickson</td>\n",
       "      <td>Benedict Cumberbatch</td>\n",
       "    </tr>\n",
       "    <tr>\n",
       "      <th>3</th>\n",
       "      <td>7</td>\n",
       "      <td>Busanhaeng</td>\n",
       "      <td>While a zombie virus breaks out in South Korea...</td>\n",
       "      <td>118</td>\n",
       "      <td>Action</td>\n",
       "      <td>7.6</td>\n",
       "      <td>72.0</td>\n",
       "      <td>194512</td>\n",
       "      <td>2.13</td>\n",
       "      <td>Sang-ho Yeon</td>\n",
       "      <td>Gong Yoo</td>\n",
       "    </tr>\n",
       "    <tr>\n",
       "      <th>4</th>\n",
       "      <td>8</td>\n",
       "      <td>Ghostbusters</td>\n",
       "      <td>Following a ghost invasion of Manhattan, paran...</td>\n",
       "      <td>117</td>\n",
       "      <td>Action</td>\n",
       "      <td>6.5</td>\n",
       "      <td>60.0</td>\n",
       "      <td>215403</td>\n",
       "      <td>128.30</td>\n",
       "      <td>Paul Feig</td>\n",
       "      <td>Melissa McCarthy</td>\n",
       "    </tr>\n",
       "  </tbody>\n",
       "</table>\n",
       "</div>"
      ],
      "text/plain": [
       "   Rank           Title                                        Description  \\\n",
       "0     2   Suicide Squad  A secret government agency recruits some of th...   \n",
       "1     3        Deadpool  A wisecracking mercenary gets experimented on ...   \n",
       "2     4  Doctor Strange  While on a journey of physical and spiritual h...   \n",
       "3     7      Busanhaeng  While a zombie virus breaks out in South Korea...   \n",
       "4     8    Ghostbusters  Following a ghost invasion of Manhattan, paran...   \n",
       "\n",
       "   Runtime   Genre  Rating  Metascore   Votes  Gross_Earning  \\\n",
       "0      123  Action     5.9       40.0  656097         325.10   \n",
       "1      108  Action     8.0       65.0  958507         363.00   \n",
       "2      115  Action     7.5       72.0  653299         232.60   \n",
       "3      118  Action     7.6       72.0  194512           2.13   \n",
       "4      117  Action     6.5       60.0  215403         128.30   \n",
       "\n",
       "           Director                 Actor  \n",
       "0        David Ayer            Will Smith  \n",
       "1        Tim Miller         Ryan Reynolds  \n",
       "2  Scott Derrickson  Benedict Cumberbatch  \n",
       "3      Sang-ho Yeon              Gong Yoo  \n",
       "4         Paul Feig      Melissa McCarthy  "
      ]
     },
     "execution_count": 7,
     "metadata": {},
     "output_type": "execute_result"
    }
   ],
   "source": [
    "df=pd.read_csv(\"movies 2016.csv\").dropna()\n",
    "df.head()"
   ]
  },
  {
   "cell_type": "code",
   "execution_count": 8,
   "id": "8a08cf94",
   "metadata": {},
   "outputs": [
    {
     "name": "stdout",
     "output_type": "stream",
     "text": [
      "<class 'pandas.core.frame.DataFrame'>\n",
      "Int64Index: 89 entries, 0 to 99\n",
      "Data columns (total 11 columns):\n",
      " #   Column         Non-Null Count  Dtype  \n",
      "---  ------         --------------  -----  \n",
      " 0   Rank           89 non-null     int64  \n",
      " 1   Title          89 non-null     object \n",
      " 2   Description    89 non-null     object \n",
      " 3   Runtime        89 non-null     int64  \n",
      " 4   Genre          89 non-null     object \n",
      " 5   Rating         89 non-null     float64\n",
      " 6   Metascore      89 non-null     float64\n",
      " 7   Votes          89 non-null     int64  \n",
      " 8   Gross_Earning  89 non-null     float64\n",
      " 9   Director       89 non-null     object \n",
      " 10  Actor          89 non-null     object \n",
      "dtypes: float64(3), int64(3), object(5)\n",
      "memory usage: 8.3+ KB\n"
     ]
    }
   ],
   "source": [
    "df.info()"
   ]
  },
  {
   "cell_type": "code",
   "execution_count": 9,
   "id": "daf4d0a1",
   "metadata": {},
   "outputs": [
    {
     "data": {
      "text/plain": [
       "Index(['Rank', 'Title', 'Description', 'Runtime', 'Genre', 'Rating',\n",
       "       'Metascore', 'Votes', 'Gross_Earning', 'Director', 'Actor'],\n",
       "      dtype='object')"
      ]
     },
     "execution_count": 9,
     "metadata": {},
     "output_type": "execute_result"
    }
   ],
   "source": [
    "df.columns"
   ]
  },
  {
   "cell_type": "code",
   "execution_count": 10,
   "id": "04b207aa",
   "metadata": {},
   "outputs": [
    {
     "data": {
      "text/plain": [
       "Rank             0\n",
       "Title            0\n",
       "Description      0\n",
       "Runtime          0\n",
       "Genre            0\n",
       "Rating           0\n",
       "Metascore        0\n",
       "Votes            0\n",
       "Gross_Earning    0\n",
       "Director         0\n",
       "Actor            0\n",
       "dtype: int64"
      ]
     },
     "execution_count": 10,
     "metadata": {},
     "output_type": "execute_result"
    }
   ],
   "source": [
    "df.isnull().sum()"
   ]
  },
  {
   "cell_type": "code",
   "execution_count": 11,
   "id": "7d3d69f9",
   "metadata": {},
   "outputs": [
    {
     "data": {
      "text/html": [
       "<div>\n",
       "<style scoped>\n",
       "    .dataframe tbody tr th:only-of-type {\n",
       "        vertical-align: middle;\n",
       "    }\n",
       "\n",
       "    .dataframe tbody tr th {\n",
       "        vertical-align: top;\n",
       "    }\n",
       "\n",
       "    .dataframe thead th {\n",
       "        text-align: right;\n",
       "    }\n",
       "</style>\n",
       "<table border=\"1\" class=\"dataframe\">\n",
       "  <thead>\n",
       "    <tr style=\"text-align: right;\">\n",
       "      <th></th>\n",
       "      <th>Rank</th>\n",
       "      <th>Runtime</th>\n",
       "      <th>Rating</th>\n",
       "      <th>Metascore</th>\n",
       "      <th>Votes</th>\n",
       "      <th>Gross_Earning</th>\n",
       "    </tr>\n",
       "  </thead>\n",
       "  <tbody>\n",
       "    <tr>\n",
       "      <th>count</th>\n",
       "      <td>89.000000</td>\n",
       "      <td>89.000000</td>\n",
       "      <td>89.000000</td>\n",
       "      <td>89.000000</td>\n",
       "      <td>89.000000</td>\n",
       "      <td>89.000000</td>\n",
       "    </tr>\n",
       "    <tr>\n",
       "      <th>mean</th>\n",
       "      <td>48.348315</td>\n",
       "      <td>114.955056</td>\n",
       "      <td>6.848315</td>\n",
       "      <td>59.730337</td>\n",
       "      <td>219889.853933</td>\n",
       "      <td>97.774719</td>\n",
       "    </tr>\n",
       "    <tr>\n",
       "      <th>std</th>\n",
       "      <td>29.427145</td>\n",
       "      <td>15.700253</td>\n",
       "      <td>0.787417</td>\n",
       "      <td>17.906172</td>\n",
       "      <td>181372.775579</td>\n",
       "      <td>117.679386</td>\n",
       "    </tr>\n",
       "    <tr>\n",
       "      <th>min</th>\n",
       "      <td>1.000000</td>\n",
       "      <td>81.000000</td>\n",
       "      <td>5.100000</td>\n",
       "      <td>18.000000</td>\n",
       "      <td>493.000000</td>\n",
       "      <td>0.070000</td>\n",
       "    </tr>\n",
       "    <tr>\n",
       "      <th>25%</th>\n",
       "      <td>23.000000</td>\n",
       "      <td>106.000000</td>\n",
       "      <td>6.300000</td>\n",
       "      <td>48.000000</td>\n",
       "      <td>96679.000000</td>\n",
       "      <td>14.270000</td>\n",
       "    </tr>\n",
       "    <tr>\n",
       "      <th>50%</th>\n",
       "      <td>46.000000</td>\n",
       "      <td>115.000000</td>\n",
       "      <td>7.000000</td>\n",
       "      <td>60.000000</td>\n",
       "      <td>173625.000000</td>\n",
       "      <td>54.770000</td>\n",
       "    </tr>\n",
       "    <tr>\n",
       "      <th>75%</th>\n",
       "      <td>73.000000</td>\n",
       "      <td>123.000000</td>\n",
       "      <td>7.400000</td>\n",
       "      <td>74.000000</td>\n",
       "      <td>257019.000000</td>\n",
       "      <td>126.600000</td>\n",
       "    </tr>\n",
       "    <tr>\n",
       "      <th>max</th>\n",
       "      <td>100.000000</td>\n",
       "      <td>161.000000</td>\n",
       "      <td>8.400000</td>\n",
       "      <td>99.000000</td>\n",
       "      <td>958507.000000</td>\n",
       "      <td>532.100000</td>\n",
       "    </tr>\n",
       "  </tbody>\n",
       "</table>\n",
       "</div>"
      ],
      "text/plain": [
       "             Rank     Runtime     Rating  Metascore          Votes  \\\n",
       "count   89.000000   89.000000  89.000000  89.000000      89.000000   \n",
       "mean    48.348315  114.955056   6.848315  59.730337  219889.853933   \n",
       "std     29.427145   15.700253   0.787417  17.906172  181372.775579   \n",
       "min      1.000000   81.000000   5.100000  18.000000     493.000000   \n",
       "25%     23.000000  106.000000   6.300000  48.000000   96679.000000   \n",
       "50%     46.000000  115.000000   7.000000  60.000000  173625.000000   \n",
       "75%     73.000000  123.000000   7.400000  74.000000  257019.000000   \n",
       "max    100.000000  161.000000   8.400000  99.000000  958507.000000   \n",
       "\n",
       "       Gross_Earning  \n",
       "count      89.000000  \n",
       "mean       97.774719  \n",
       "std       117.679386  \n",
       "min         0.070000  \n",
       "25%        14.270000  \n",
       "50%        54.770000  \n",
       "75%       126.600000  \n",
       "max       532.100000  "
      ]
     },
     "execution_count": 11,
     "metadata": {},
     "output_type": "execute_result"
    }
   ],
   "source": [
    "df.describe()"
   ]
  },
  {
   "cell_type": "code",
   "execution_count": 13,
   "id": "7aa8371b",
   "metadata": {},
   "outputs": [
    {
     "data": {
      "text/html": [
       "<div>\n",
       "<style scoped>\n",
       "    .dataframe tbody tr th:only-of-type {\n",
       "        vertical-align: middle;\n",
       "    }\n",
       "\n",
       "    .dataframe tbody tr th {\n",
       "        vertical-align: top;\n",
       "    }\n",
       "\n",
       "    .dataframe thead th {\n",
       "        text-align: right;\n",
       "    }\n",
       "</style>\n",
       "<table border=\"1\" class=\"dataframe\">\n",
       "  <thead>\n",
       "    <tr style=\"text-align: right;\">\n",
       "      <th></th>\n",
       "      <th>count</th>\n",
       "      <th>unique</th>\n",
       "      <th>top</th>\n",
       "      <th>freq</th>\n",
       "    </tr>\n",
       "  </thead>\n",
       "  <tbody>\n",
       "    <tr>\n",
       "      <th>Title</th>\n",
       "      <td>89</td>\n",
       "      <td>89</td>\n",
       "      <td>Te Ata</td>\n",
       "      <td>1</td>\n",
       "    </tr>\n",
       "    <tr>\n",
       "      <th>Description</th>\n",
       "      <td>89</td>\n",
       "      <td>89</td>\n",
       "      <td>Based on the incredible true story of the Beam...</td>\n",
       "      <td>1</td>\n",
       "    </tr>\n",
       "    <tr>\n",
       "      <th>Genre</th>\n",
       "      <td>89</td>\n",
       "      <td>8</td>\n",
       "      <td>Action</td>\n",
       "      <td>39</td>\n",
       "    </tr>\n",
       "    <tr>\n",
       "      <th>Director</th>\n",
       "      <td>89</td>\n",
       "      <td>88</td>\n",
       "      <td>David Yates</td>\n",
       "      <td>2</td>\n",
       "    </tr>\n",
       "    <tr>\n",
       "      <th>Actor</th>\n",
       "      <td>89</td>\n",
       "      <td>80</td>\n",
       "      <td>Amy Adams</td>\n",
       "      <td>2</td>\n",
       "    </tr>\n",
       "  </tbody>\n",
       "</table>\n",
       "</div>"
      ],
      "text/plain": [
       "            count unique                                                top  \\\n",
       "Title          89     89                                             Te Ata   \n",
       "Description    89     89  Based on the incredible true story of the Beam...   \n",
       "Genre          89      8                                             Action   \n",
       "Director       89     88                                        David Yates   \n",
       "Actor          89     80                                          Amy Adams   \n",
       "\n",
       "            freq  \n",
       "Title          1  \n",
       "Description    1  \n",
       "Genre         39  \n",
       "Director       2  \n",
       "Actor          2  "
      ]
     },
     "execution_count": 13,
     "metadata": {},
     "output_type": "execute_result"
    }
   ],
   "source": [
    "#categorical variables\n",
    "df.describe(include=['O']).T"
   ]
  },
  {
   "cell_type": "code",
   "execution_count": 14,
   "id": "74953a3d",
   "metadata": {},
   "outputs": [
    {
     "data": {
      "text/plain": [
       "<seaborn.axisgrid.FacetGrid at 0x1f7fa513400>"
      ]
     },
     "execution_count": 14,
     "metadata": {},
     "output_type": "execute_result"
    },
    {
     "data": {
      "image/png": "[encoded data removed]",
      "text/plain": [
       "<Figure size 360x360 with 1 Axes>"
      ]
     },
     "metadata": {
      "needs_background": "light"
     },
     "output_type": "display_data"
    }
   ],
   "source": [
    "#visualization\n",
    "#distribution of runtime\n",
    "sns.displot(x='Runtime',data=df,kde=True)"
   ]
  },
  {
   "cell_type": "code",
   "execution_count": 15,
   "id": "a46a4023",
   "metadata": {},
   "outputs": [
    {
     "data": {
      "text/plain": [
       "array([5.9, 8. , 7.5, 7.6, 6.5, 7.8, 6.9, 5.4, 6.2, 6.4, 7.3, 7.4, 7.2,\n",
       "       6.6, 6.8, 7. , 6.1, 6.3, 5.2, 7.1, 5.3, 5.7, 5.5, 5.8, 6.7, 7.9,\n",
       "       8.4, 8.1, 5.1])"
      ]
     },
     "execution_count": 15,
     "metadata": {},
     "output_type": "execute_result"
    }
   ],
   "source": [
    "#unique factors for rating\n",
    "df['Rating'].unique()"
   ]
  },
  {
   "cell_type": "code",
   "execution_count": 16,
   "id": "8e6fb026",
   "metadata": {},
   "outputs": [
    {
     "data": {
      "text/plain": [
       "<seaborn.axisgrid.FacetGrid at 0x1f7faf7dd00>"
      ]
     },
     "execution_count": 16,
     "metadata": {},
     "output_type": "execute_result"
    },
    {
     "data": {
      "image/png": "[encoded data removed]",
      "text/plain": [
       "<Figure size 360x360 with 1 Axes>"
      ]
     },
     "metadata": {
      "needs_background": "light"
     },
     "output_type": "display_data"
    }
   ],
   "source": [
    "#distribution of rating\n",
    "sns.displot(x='Rating',data=df,kde=True)"
   ]
  },
  {
   "cell_type": "code",
   "execution_count": 17,
   "id": "dcec59f2",
   "metadata": {},
   "outputs": [
    {
     "data": {
      "text/plain": [
       "<AxesSubplot:xlabel='Genre', ylabel='count'>"
      ]
     },
     "execution_count": 17,
     "metadata": {},
     "output_type": "execute_result"
    },
    {
     "data": {
      "image/png": "[encoded data removed]",
      "text/plain": [
       "<Figure size 432x288 with 1 Axes>"
      ]
     },
     "metadata": {
      "needs_background": "light"
     },
     "output_type": "display_data"
    }
   ],
   "source": [
    "#distribution of categorical variable\n",
    "sns.countplot(x='Genre',data=df)"
   ]
  },
  {
   "cell_type": "code",
   "execution_count": 18,
   "id": "a83449e4",
   "metadata": {},
   "outputs": [
    {
     "data": {
      "text/plain": [
       "Action       39\n",
       "Drama        13\n",
       "Biography    10\n",
       "Animation     8\n",
       "Comedy        8\n",
       "Adventure     4\n",
       "Horror        4\n",
       "Crime         3\n",
       "Name: Genre, dtype: int64"
      ]
     },
     "execution_count": 18,
     "metadata": {},
     "output_type": "execute_result"
    }
   ],
   "source": [
    "df['Genre'].value_counts()"
   ]
  },
  {
   "cell_type": "code",
   "execution_count": 20,
   "id": "124bfcdf",
   "metadata": {},
   "outputs": [
    {
     "data": {
      "text/plain": [
       "<AxesSubplot:>"
      ]
     },
     "execution_count": 20,
     "metadata": {},
     "output_type": "execute_result"
    },
    {
     "data": {
      "image/png": "[encoded data removed]",
      "text/plain": [
       "<Figure size 432x288 with 2 Axes>"
      ]
     },
     "metadata": {
      "needs_background": "light"
     },
     "output_type": "display_data"
    }
   ],
   "source": [
    "#correlation of the data\n",
    "sns.heatmap(df.corr(),annot=True)"
   ]
  },
  {
   "cell_type": "code",
   "execution_count": 23,
   "id": "7628d449",
   "metadata": {},
   "outputs": [],
   "source": [
    "#data cleaning\n",
    "#feature engineering\n",
    "#dropping unimportant variables\n",
    "df.drop(['Title','Description','Director','Actor'],axis=1,inplace=True)"
   ]
  },
  {
   "cell_type": "code",
   "execution_count": 24,
   "id": "6993e8b3",
   "metadata": {},
   "outputs": [
    {
     "data": {
      "text/html": [
       "<div>\n",
       "<style scoped>\n",
       "    .dataframe tbody tr th:only-of-type {\n",
       "        vertical-align: middle;\n",
       "    }\n",
       "\n",
       "    .dataframe tbody tr th {\n",
       "        vertical-align: top;\n",
       "    }\n",
       "\n",
       "    .dataframe thead th {\n",
       "        text-align: right;\n",
       "    }\n",
       "</style>\n",
       "<table border=\"1\" class=\"dataframe\">\n",
       "  <thead>\n",
       "    <tr style=\"text-align: right;\">\n",
       "      <th></th>\n",
       "      <th>Rank</th>\n",
       "      <th>Runtime</th>\n",
       "      <th>Genre</th>\n",
       "      <th>Rating</th>\n",
       "      <th>Metascore</th>\n",
       "      <th>Votes</th>\n",
       "      <th>Gross_Earning</th>\n",
       "    </tr>\n",
       "  </thead>\n",
       "  <tbody>\n",
       "    <tr>\n",
       "      <th>0</th>\n",
       "      <td>2</td>\n",
       "      <td>123</td>\n",
       "      <td>Action</td>\n",
       "      <td>5.9</td>\n",
       "      <td>40.0</td>\n",
       "      <td>656097</td>\n",
       "      <td>325.10</td>\n",
       "    </tr>\n",
       "    <tr>\n",
       "      <th>1</th>\n",
       "      <td>3</td>\n",
       "      <td>108</td>\n",
       "      <td>Action</td>\n",
       "      <td>8.0</td>\n",
       "      <td>65.0</td>\n",
       "      <td>958507</td>\n",
       "      <td>363.00</td>\n",
       "    </tr>\n",
       "    <tr>\n",
       "      <th>2</th>\n",
       "      <td>4</td>\n",
       "      <td>115</td>\n",
       "      <td>Action</td>\n",
       "      <td>7.5</td>\n",
       "      <td>72.0</td>\n",
       "      <td>653299</td>\n",
       "      <td>232.60</td>\n",
       "    </tr>\n",
       "    <tr>\n",
       "      <th>3</th>\n",
       "      <td>7</td>\n",
       "      <td>118</td>\n",
       "      <td>Action</td>\n",
       "      <td>7.6</td>\n",
       "      <td>72.0</td>\n",
       "      <td>194512</td>\n",
       "      <td>2.13</td>\n",
       "    </tr>\n",
       "    <tr>\n",
       "      <th>4</th>\n",
       "      <td>8</td>\n",
       "      <td>117</td>\n",
       "      <td>Action</td>\n",
       "      <td>6.5</td>\n",
       "      <td>60.0</td>\n",
       "      <td>215403</td>\n",
       "      <td>128.30</td>\n",
       "    </tr>\n",
       "  </tbody>\n",
       "</table>\n",
       "</div>"
      ],
      "text/plain": [
       "   Rank  Runtime   Genre  Rating  Metascore   Votes  Gross_Earning\n",
       "0     2      123  Action     5.9       40.0  656097         325.10\n",
       "1     3      108  Action     8.0       65.0  958507         363.00\n",
       "2     4      115  Action     7.5       72.0  653299         232.60\n",
       "3     7      118  Action     7.6       72.0  194512           2.13\n",
       "4     8      117  Action     6.5       60.0  215403         128.30"
      ]
     },
     "execution_count": 24,
     "metadata": {},
     "output_type": "execute_result"
    }
   ],
   "source": [
    "df.head()"
   ]
  },
  {
   "cell_type": "code",
   "execution_count": 26,
   "id": "0cf1b997",
   "metadata": {},
   "outputs": [
    {
     "data": {
      "text/html": [
       "<div>\n",
       "<style scoped>\n",
       "    .dataframe tbody tr th:only-of-type {\n",
       "        vertical-align: middle;\n",
       "    }\n",
       "\n",
       "    .dataframe tbody tr th {\n",
       "        vertical-align: top;\n",
       "    }\n",
       "\n",
       "    .dataframe thead th {\n",
       "        text-align: right;\n",
       "    }\n",
       "</style>\n",
       "<table border=\"1\" class=\"dataframe\">\n",
       "  <thead>\n",
       "    <tr style=\"text-align: right;\">\n",
       "      <th></th>\n",
       "      <th>Rank</th>\n",
       "      <th>Runtime</th>\n",
       "      <th>Rating</th>\n",
       "      <th>Metascore</th>\n",
       "      <th>Votes</th>\n",
       "      <th>Gross_Earning</th>\n",
       "      <th>Genre_Action</th>\n",
       "      <th>Genre_Adventure</th>\n",
       "      <th>Genre_Animation</th>\n",
       "      <th>Genre_Biography</th>\n",
       "      <th>Genre_Comedy</th>\n",
       "      <th>Genre_Crime</th>\n",
       "      <th>Genre_Drama</th>\n",
       "      <th>Genre_Horror</th>\n",
       "    </tr>\n",
       "  </thead>\n",
       "  <tbody>\n",
       "    <tr>\n",
       "      <th>0</th>\n",
       "      <td>2</td>\n",
       "      <td>123</td>\n",
       "      <td>5.9</td>\n",
       "      <td>40.0</td>\n",
       "      <td>656097</td>\n",
       "      <td>325.10</td>\n",
       "      <td>1</td>\n",
       "      <td>0</td>\n",
       "      <td>0</td>\n",
       "      <td>0</td>\n",
       "      <td>0</td>\n",
       "      <td>0</td>\n",
       "      <td>0</td>\n",
       "      <td>0</td>\n",
       "    </tr>\n",
       "    <tr>\n",
       "      <th>1</th>\n",
       "      <td>3</td>\n",
       "      <td>108</td>\n",
       "      <td>8.0</td>\n",
       "      <td>65.0</td>\n",
       "      <td>958507</td>\n",
       "      <td>363.00</td>\n",
       "      <td>1</td>\n",
       "      <td>0</td>\n",
       "      <td>0</td>\n",
       "      <td>0</td>\n",
       "      <td>0</td>\n",
       "      <td>0</td>\n",
       "      <td>0</td>\n",
       "      <td>0</td>\n",
       "    </tr>\n",
       "    <tr>\n",
       "      <th>2</th>\n",
       "      <td>4</td>\n",
       "      <td>115</td>\n",
       "      <td>7.5</td>\n",
       "      <td>72.0</td>\n",
       "      <td>653299</td>\n",
       "      <td>232.60</td>\n",
       "      <td>1</td>\n",
       "      <td>0</td>\n",
       "      <td>0</td>\n",
       "      <td>0</td>\n",
       "      <td>0</td>\n",
       "      <td>0</td>\n",
       "      <td>0</td>\n",
       "      <td>0</td>\n",
       "    </tr>\n",
       "    <tr>\n",
       "      <th>3</th>\n",
       "      <td>7</td>\n",
       "      <td>118</td>\n",
       "      <td>7.6</td>\n",
       "      <td>72.0</td>\n",
       "      <td>194512</td>\n",
       "      <td>2.13</td>\n",
       "      <td>1</td>\n",
       "      <td>0</td>\n",
       "      <td>0</td>\n",
       "      <td>0</td>\n",
       "      <td>0</td>\n",
       "      <td>0</td>\n",
       "      <td>0</td>\n",
       "      <td>0</td>\n",
       "    </tr>\n",
       "    <tr>\n",
       "      <th>4</th>\n",
       "      <td>8</td>\n",
       "      <td>117</td>\n",
       "      <td>6.5</td>\n",
       "      <td>60.0</td>\n",
       "      <td>215403</td>\n",
       "      <td>128.30</td>\n",
       "      <td>1</td>\n",
       "      <td>0</td>\n",
       "      <td>0</td>\n",
       "      <td>0</td>\n",
       "      <td>0</td>\n",
       "      <td>0</td>\n",
       "      <td>0</td>\n",
       "      <td>0</td>\n",
       "    </tr>\n",
       "  </tbody>\n",
       "</table>\n",
       "</div>"
      ],
      "text/plain": [
       "   Rank  Runtime  Rating  Metascore   Votes  Gross_Earning  Genre_Action  \\\n",
       "0     2      123     5.9       40.0  656097         325.10             1   \n",
       "1     3      108     8.0       65.0  958507         363.00             1   \n",
       "2     4      115     7.5       72.0  653299         232.60             1   \n",
       "3     7      118     7.6       72.0  194512           2.13             1   \n",
       "4     8      117     6.5       60.0  215403         128.30             1   \n",
       "\n",
       "   Genre_Adventure  Genre_Animation  Genre_Biography  Genre_Comedy  \\\n",
       "0                0                0                0             0   \n",
       "1                0                0                0             0   \n",
       "2                0                0                0             0   \n",
       "3                0                0                0             0   \n",
       "4                0                0                0             0   \n",
       "\n",
       "   Genre_Crime  Genre_Drama  Genre_Horror  \n",
       "0            0            0             0  \n",
       "1            0            0             0  \n",
       "2            0            0             0  \n",
       "3            0            0             0  \n",
       "4            0            0             0  "
      ]
     },
     "execution_count": 26,
     "metadata": {},
     "output_type": "execute_result"
    }
   ],
   "source": [
    "#getting dummies for genre\n",
    "df2=pd.get_dummies(df).reset_index(drop=True)\n",
    "df2.head()"
   ]
  },
  {
   "cell_type": "code",
   "execution_count": 28,
   "id": "4ef01106",
   "metadata": {},
   "outputs": [
    {
     "data": {
      "text/plain": [
       "array([[  2. , 123. ,   5.9, ...,   0. ,   0. ,   0. ],\n",
       "       [  3. , 108. ,   8. , ...,   0. ,   0. ,   0. ],\n",
       "       [  4. , 115. ,   7.5, ...,   0. ,   0. ,   0. ],\n",
       "       ...,\n",
       "       [ 35. , 134. ,   7.3, ...,   0. ,   0. ,   1. ],\n",
       "       [ 48. , 117. ,   6.2, ...,   0. ,   0. ,   1. ],\n",
       "       [ 96. , 102. ,   5.1, ...,   0. ,   0. ,   1. ]])"
      ]
     },
     "execution_count": 28,
     "metadata": {},
     "output_type": "execute_result"
    }
   ],
   "source": [
    "#modelling\n",
    "#k means clustering\n",
    "#determine the optimal number of clusters\n",
    "#determine starting values for each cluster\n",
    "X=df2.iloc[:,].values\n",
    "X"
   ]
  },
  {
   "cell_type": "code",
   "execution_count": 30,
   "id": "f9a9ae10",
   "metadata": {},
   "outputs": [
    {
     "name": "stderr",
     "output_type": "stream",
     "text": [
      "C:\\Users\\John\\anaconda3\\lib\\site-packages\\sklearn\\cluster\\_kmeans.py:881: UserWarning: KMeans is known to have a memory leak on Windows with MKL, when there are less chunks than available threads. You can avoid it by setting the environment variable OMP_NUM_THREADS=1.\n",
      "  warnings.warn(\n"
     ]
    },
    {
     "data": {
      "image/png": "[encoded data removed]",
      "text/plain": [
       "<Figure size 432x288 with 1 Axes>"
      ]
     },
     "metadata": {
      "needs_background": "light"
     },
     "output_type": "display_data"
    }
   ],
   "source": [
    "#using the elbow method to find optimal number of clusters\n",
    "wcss=[]\n",
    "for i in range(1,11):\n",
    "    kmeans=KMeans(n_clusters=i,init='k-means++',random_state=42)\n",
    "    kmeans.fit(X)\n",
    "    wcss.append(kmeans.inertia_)\n",
    "plt.plot(range(1,11),wcss)\n",
    "plt.title('The Elbow Method')\n",
    "plt.xlabel('Number of Clusters')\n",
    "plt.ylabel('WCSS')\n",
    "plt.show()"
   ]
  },
  {
   "cell_type": "code",
   "execution_count": 31,
   "id": "d8542a39",
   "metadata": {},
   "outputs": [
    {
     "data": {
      "text/plain": [
       "array([4, 2, 4, 3, 3, 4, 3, 4, 0, 1, 3, 4, 3, 3, 3, 3, 3, 3, 3, 1, 1, 3,\n",
       "       3, 3, 1, 1, 3, 1, 3, 1, 1, 1, 1, 1, 1, 1, 1, 1, 1, 0, 3, 1, 3, 1,\n",
       "       3, 0, 3, 3, 3, 1, 3, 0, 3, 1, 3, 1, 3, 3, 1, 1, 1, 0, 3, 1, 1, 1,\n",
       "       1, 1, 1, 3, 3, 1, 4, 3, 1, 1, 3, 0, 1, 1, 1, 1, 3, 3, 1, 0, 3, 1,\n",
       "       1])"
      ]
     },
     "execution_count": 31,
     "metadata": {},
     "output_type": "execute_result"
    }
   ],
   "source": [
    "#fitting k-means to the dataset\n",
    "kmeans=KMeans(n_clusters=5,init='k-means++',\n",
    "             random_state=42)\n",
    "y_kmeans=kmeans.fit_predict(X)\n",
    "y_kmeans"
   ]
  },
  {
   "cell_type": "code",
   "execution_count": 35,
   "id": "e213602b",
   "metadata": {},
   "outputs": [
    {
     "data": {
      "image/png": "[encoded data removed]",
      "text/plain": [
       "<Figure size 432x288 with 1 Axes>"
      ]
     },
     "metadata": {
      "needs_background": "light"
     },
     "output_type": "display_data"
    }
   ],
   "source": [
    "#visualizing the clusters\n",
    "plt.scatter(X[y_kmeans==0,2],X[y_kmeans==0,5],s=100,c='red',\n",
    "           label='Cluster 1')\n",
    "plt.scatter(X[y_kmeans==1,2],X[y_kmeans==1,5],s=100,c='blue',\n",
    "           label='Cluster 2')\n",
    "plt.scatter(X[y_kmeans==2,2],X[y_kmeans==2,5],s=100,c='green',\n",
    "           label='Cluster 3')\n",
    "plt.scatter(X[y_kmeans==3,2],X[y_kmeans==3,5],s=100,c='cyan',\n",
    "           label='Cluster 4')\n",
    "plt.scatter(X[y_kmeans==4,2],X[y_kmeans==4,5],s=100,c='magenta',\n",
    "           label='Cluster 5')\n",
    "plt.scatter(kmeans.cluster_centers_[:, 0],\n",
    "            kmeans.cluster_centers_[:, 1],s=300,c='yellow',\n",
    "           label='Centroids')\n",
    "plt.title('Clusters of Movies')\n",
    "plt.xlabel('Rating')\n",
    "plt.ylabel('Gross Earning')\n",
    "plt.legend()\n",
    "plt.show()"
   ]
  },
  {
   "cell_type": "code",
   "execution_count": 36,
   "id": "2cccc846",
   "metadata": {},
   "outputs": [],
   "source": [
    "#hierarchical clustering\n",
    "hc=AgglomerativeClustering(n_clusters=5,affinity='euclidean',\n",
    "                          linkage='ward')\n",
    "y_hc=hc.fit_predict(X)"
   ]
  },
  {
   "cell_type": "code",
   "execution_count": 38,
   "id": "1589a1f5",
   "metadata": {},
   "outputs": [
    {
     "name": "stdout",
     "output_type": "stream",
     "text": [
      "<class 'pandas.core.frame.DataFrame'>\n",
      "RangeIndex: 89 entries, 0 to 88\n",
      "Data columns (total 14 columns):\n",
      " #   Column           Non-Null Count  Dtype  \n",
      "---  ------           --------------  -----  \n",
      " 0   Rank             89 non-null     int64  \n",
      " 1   Runtime          89 non-null     int64  \n",
      " 2   Rating           89 non-null     float64\n",
      " 3   Metascore        89 non-null     float64\n",
      " 4   Votes            89 non-null     int64  \n",
      " 5   Gross_Earning    89 non-null     float64\n",
      " 6   Genre_Action     89 non-null     uint8  \n",
      " 7   Genre_Adventure  89 non-null     uint8  \n",
      " 8   Genre_Animation  89 non-null     uint8  \n",
      " 9   Genre_Biography  89 non-null     uint8  \n",
      " 10  Genre_Comedy     89 non-null     uint8  \n",
      " 11  Genre_Crime      89 non-null     uint8  \n",
      " 12  Genre_Drama      89 non-null     uint8  \n",
      " 13  Genre_Horror     89 non-null     uint8  \n",
      "dtypes: float64(3), int64(3), uint8(8)\n",
      "memory usage: 5.0 KB\n"
     ]
    }
   ],
   "source": [
    "df2.info()"
   ]
  },
  {
   "cell_type": "code",
   "execution_count": 39,
   "id": "32ba992b",
   "metadata": {},
   "outputs": [
    {
     "name": "stdout",
     "output_type": "stream",
     "text": [
      "<class 'pandas.core.frame.DataFrame'>\n",
      "RangeIndex: 89 entries, 0 to 88\n",
      "Data columns (total 14 columns):\n",
      " #   Column           Non-Null Count  Dtype  \n",
      "---  ------           --------------  -----  \n",
      " 0   Rank             89 non-null     int64  \n",
      " 1   Runtime          89 non-null     int64  \n",
      " 2   Rating           89 non-null     float64\n",
      " 3   Metascore        89 non-null     float64\n",
      " 4   Votes            89 non-null     int64  \n",
      " 5   Gross_Earning    89 non-null     float64\n",
      " 6   Genre_Action     89 non-null     uint8  \n",
      " 7   Genre_Adventure  89 non-null     uint8  \n",
      " 8   Genre_Animation  89 non-null     uint8  \n",
      " 9   Genre_Biography  89 non-null     uint8  \n",
      " 10  Genre_Comedy     89 non-null     uint8  \n",
      " 11  Genre_Crime      89 non-null     uint8  \n",
      " 12  Genre_Drama      89 non-null     uint8  \n",
      " 13  Genre_Horror     89 non-null     uint8  \n",
      "dtypes: float64(3), int64(3), uint8(8)\n",
      "memory usage: 5.0 KB\n"
     ]
    }
   ],
   "source": [
    "df2.info()"
   ]
  },
  {
   "cell_type": "code",
   "execution_count": 40,
   "id": "aa531d97",
   "metadata": {},
   "outputs": [
    {
     "data": {
      "image/png": "[encoded data removed]",
      "text/plain": [
       "<Figure size 432x288 with 1 Axes>"
      ]
     },
     "metadata": {
      "needs_background": "light"
     },
     "output_type": "display_data"
    }
   ],
   "source": [
    "plt.scatter(X[y_hc==0,4],X[y_hc==0,5],s=100,c='red',\n",
    "           label='Cluster 1')\n",
    "plt.scatter(X[y_hc==1,4],X[y_hc==1,5],s=100,c='blue',\n",
    "           label='Cluster 2')\n",
    "plt.scatter(X[y_hc==2,4],X[y_hc==2,5],s=100,c='green',\n",
    "           label='Cluster 3')\n",
    "plt.scatter(X[y_hc==3,4],X[y_hc==3,5],s=100,c='cyan',\n",
    "           label='Cluster 4')\n",
    "plt.scatter(X[y_hc==4,4],X[y_hc==4,5],s=100,c='magenta',\n",
    "           label='Cluster 5')\n",
    "plt.title('Clusters of Movies')\n",
    "plt.xlabel('Votes')\n",
    "plt.ylabel('Gross Earning')\n",
    "plt.legend()\n",
    "plt.show()"
   ]
  }
 ],
 "metadata": {
  "kernelspec": {
   "display_name": "Python 3",
   "language": "python",
   "name": "python3"
  },
  "language_info": {
   "codemirror_mode": {
    "name": "ipython",
    "version": 3
   },
   "file_extension": ".py",
   "mimetype": "text/x-python",
   "name": "python",
   "nbconvert_exporter": "python",
   "pygments_lexer": "ipython3",
   "version": "3.8.8"
  }
 },
 "nbformat": 4,
 "nbformat_minor": 5
}
